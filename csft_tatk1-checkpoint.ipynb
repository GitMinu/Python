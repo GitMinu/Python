{
 "cells": [
  {
   "cell_type": "markdown",
   "metadata": {},
   "source": [
    "# Task1"
   ]
  },
  {
   "cell_type": "markdown",
   "metadata": {},
   "source": [
    "1. Given a string, return the string made of its first two chars"
   ]
  },
  {
   "cell_type": "code",
   "execution_count": 85,
   "metadata": {},
   "outputs": [
    {
     "name": "stdout",
     "output_type": "stream",
     "text": [
      "He\n",
      "ab\n",
      "ab\n"
     ]
    }
   ],
   "source": [
    "\n",
    "def first_two(name):\n",
    "    if len(name) <= 2 :\n",
    "        print(name)\n",
    "    else:\n",
    "        print(name[0]+name[1])\n",
    "            \n",
    "\n",
    "first_two('Hello')\n",
    "first_two('abcdefg')\n",
    "first_two('ab') \n"
   ]
  },
  {
   "cell_type": "markdown",
   "metadata": {},
   "source": [
    "2. Given a string, return a new string made of 3 copies of the last 2 chars of the original string. The string length will be at least 2."
   ]
  },
  {
   "cell_type": "code",
   "execution_count": 86,
   "metadata": {},
   "outputs": [
    {
     "name": "stdout",
     "output_type": "stream",
     "text": [
      "lololo\n",
      "ababab\n",
      "HiHiHi\n"
     ]
    }
   ],
   "source": [
    "\n",
    "def extra_end(name):\n",
    "    if len(name) >= 2 :\n",
    "        print(name[-2:]+name[-2:]+name[-2:])\n",
    "    else:\n",
    "        print(\"The string length will be at least 2\")\n",
    "        \n",
    "\n",
    "extra_end('Hello')\n",
    "extra_end('ab')\n",
    "extra_end('Hi')\n"
   ]
  },
  {
   "cell_type": "markdown",
   "metadata": {},
   "source": [
    "3. Given a string of even length, return the first half. So the string \"WooHoo\" yields \"Woo\" ."
   ]
  },
  {
   "cell_type": "code",
   "execution_count": 92,
   "metadata": {},
   "outputs": [
    {
     "name": "stdout",
     "output_type": "stream",
     "text": [
      "Woo\n",
      "Hello\n",
      "abc\n"
     ]
    }
   ],
   "source": [
    "\n",
    "def first_half(name):\n",
    "    if len(name)%2 == 0:\n",
    "        t=int(len(name)/2)\n",
    "        print(name[0:t])\n",
    "    else:\n",
    "        print(\"The length of the string is not even\")\n",
    "\n",
    "first_half('WooHoo')\n",
    "first_half('HelloThere') \n",
    "first_half('abcdef') \n"
   ]
  },
  {
   "cell_type": "markdown",
   "metadata": {},
   "source": [
    " 4. Given a string, return a version without the first and last char, so \"Hello\" yields \"ell\". The string length will be at least 2."
   ]
  },
  {
   "cell_type": "code",
   "execution_count": 88,
   "metadata": {},
   "outputs": [
    {
     "name": "stdout",
     "output_type": "stream",
     "text": [
      "ello\n",
      "ava\n",
      "oding\n"
     ]
    }
   ],
   "source": [
    "\n",
    "def without_end(name):\n",
    "    t=int(len(name))\n",
    "    if t >= 2:\n",
    "        print(name[1:t])\n",
    "\n",
    "without_end('Hello') \n",
    "without_end('java') \n",
    "without_end('coding') \n"
   ]
  },
  {
   "cell_type": "markdown",
   "metadata": {},
   "source": [
    "5. Given two strings, a and b, return the result of putting them together in the order abba, e.g. \"Hi\" and \"Bye\" returns \"HiByeByeHi\"."
   ]
  },
  {
   "cell_type": "code",
   "execution_count": 89,
   "metadata": {},
   "outputs": [
    {
     "name": "stdout",
     "output_type": "stream",
     "text": [
      "HiByeHiBye\n",
      "YoAliceYoAlice\n",
      "WhatUpWhatUp\n"
     ]
    }
   ],
   "source": [
    "\n",
    "def make_abba(name):\n",
    "    name=''.join(name)\n",
    "    print(name+name)\n",
    "\n",
    "    \n",
    "name1=['Hi', 'Bye']  \n",
    "name2=['Yo', 'Alice']\n",
    "name3=['What', 'Up']\n",
    "make_abba(name1)\n",
    "make_abba(name2)\n",
    "make_abba(name3)\n"
   ]
  },
  {
   "cell_type": "markdown",
   "metadata": {},
   "source": [
    "6. Given 2 strings, a and b, return a string of the form short+long+short, with the shorter string on the outside and the longer string on the inside. The strings will not be the same length, but they may be empty (length 0)."
   ]
  },
  {
   "cell_type": "code",
   "execution_count": 90,
   "metadata": {},
   "outputs": [
    {
     "name": "stdout",
     "output_type": "stream",
     "text": [
      "hiHellohi\n",
      "hiHellohi\n",
      "baaab\n"
     ]
    }
   ],
   "source": [
    "\n",
    "def combo_string(name):\n",
    "    n1=name[0]\n",
    "    n2=name[1]\n",
    "    if len(n1) == len(n2):\n",
    "        print(\" The length of the strings are equal.\")    \n",
    "        \n",
    "    else:\n",
    "        if len(n1) > len(n2):\n",
    "            print(n2+n1+n2)\n",
    "        else:\n",
    "            print(n1+n2+n1)\n",
    "        \n",
    "        \n",
    "\n",
    "\n",
    "name1=['Hello', 'hi']\n",
    "name2=['hi', 'Hello']\n",
    "name3=['aaa', 'b']\n",
    "combo_string(name1)\n",
    "combo_string(name2)\n",
    "combo_string(name3)\n"
   ]
  },
  {
   "cell_type": "markdown",
   "metadata": {},
   "source": [
    "7. Given 2 strings, return their concatenation, except omit the first char of each. The strings will be at least length 1."
   ]
  },
  {
   "cell_type": "code",
   "execution_count": 91,
   "metadata": {},
   "outputs": [
    {
     "name": "stdout",
     "output_type": "stream",
     "text": [
      "ellohere\n",
      "avaode\n",
      "hotlava\n"
     ]
    }
   ],
   "source": [
    "def non_start(name):\n",
    "    n1=name[0]\n",
    "    n2=name[1]\n",
    "    if len(n1)>=1 and len(n2) >= 1:\n",
    "        print(n1[1:]+n2[1:])\n",
    "    else:\n",
    "        print(\"The length of the string is less than 1.\")\n",
    "name1=['Hello', 'There'] \n",
    "name2=['java', 'code']\n",
    "name3=['shotl', 'java']\n",
    "non_start(name1)\n",
    "non_start(name2) \n",
    "non_start(name3) \n",
    "\n"
   ]
  },
  {
   "cell_type": "markdown",
   "metadata": {},
   "source": [
    "8. Given a string, return a \"rotated left 2\" version where the first 2 chars are moved to the end. The string length will be at least 2.\n"
   ]
  },
  {
   "cell_type": "code",
   "execution_count": 84,
   "metadata": {},
   "outputs": [
    {
     "name": "stdout",
     "output_type": "stream",
     "text": [
      "lloHe\n",
      "vaja\n",
      "Hi\n"
     ]
    }
   ],
   "source": [
    "def left2(name):\n",
    "    if len(name) >= 2:\n",
    "        print(name[2:]+name[0:2])\n",
    "    else:\n",
    "        print(\"The length of the string is less than 2.\")\n",
    "\n",
    "left2('Hello') \n",
    "left2('java')\n",
    "left2('Hi')\n"
   ]
  },
  {
   "cell_type": "code",
   "execution_count": null,
   "metadata": {},
   "outputs": [],
   "source": []
  }
 ],
 "metadata": {
  "kernelspec": {
   "display_name": "Python 3",
   "language": "python",
   "name": "python3"
  },
  "language_info": {
   "codemirror_mode": {
    "name": "ipython",
    "version": 3
   },
   "file_extension": ".py",
   "mimetype": "text/x-python",
   "name": "python",
   "nbconvert_exporter": "python",
   "pygments_lexer": "ipython3",
   "version": "3.8.5"
  }
 },
 "nbformat": 4,
 "nbformat_minor": 4
}
